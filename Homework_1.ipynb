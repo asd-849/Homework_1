{
 "cells": [
  {
   "cell_type": "code",
   "execution_count": 6,
   "id": "24899327",
   "metadata": {},
   "outputs": [],
   "source": [
    "!pip install -q -U kaggle_environments"
   ]
  },
  {
   "cell_type": "code",
   "execution_count": 3,
   "id": "67cd93c6",
   "metadata": {},
   "outputs": [],
   "source": [
    "import numpy as np\n",
    "import pandas as pd\n",
    "import random\n",
    "\n",
    "import matplotlib.pyplot as plt\n",
    "import seaborn as sns\n",
    "\n",
    "from kaggle_environments import make, evaluate"
   ]
  },
  {
   "cell_type": "code",
   "execution_count": 4,
   "id": "e5f83821",
   "metadata": {},
   "outputs": [
    {
     "name": "stdout",
     "output_type": "stream",
     "text": [
      "Overwriting only_rock.py\n"
     ]
    }
   ],
   "source": [
    "%%writefile only_rock.py\n",
    "\n",
    "#Game's values:\n",
    "#0 - rock\n",
    "#1 - paper\n",
    "#2 - scissors\n",
    "\n",
    "#Agent 1\n",
    "\n",
    "def only_rock(observation, configuration):\n",
    "    return 0"
   ]
  },
  {
   "cell_type": "code",
   "execution_count": 5,
   "id": "d68fe24a",
   "metadata": {},
   "outputs": [
    {
     "name": "stdout",
     "output_type": "stream",
     "text": [
      "Overwriting only_paper.py\n"
     ]
    }
   ],
   "source": [
    "%%writefile only_paper.py\n",
    "\n",
    "#Agent 2\n",
    "\n",
    "def only_paper(observation, configuration):\n",
    "    return 1"
   ]
  },
  {
   "cell_type": "code",
   "execution_count": 6,
   "id": "1ca2b539",
   "metadata": {},
   "outputs": [
    {
     "name": "stdout",
     "output_type": "stream",
     "text": [
      "Overwriting only_scissors.py\n"
     ]
    }
   ],
   "source": [
    "%%writefile only_scissors.py\n",
    "\n",
    "#Agent 3\n",
    "\n",
    "def only_scissors(observation, configuration):\n",
    "    return 2"
   ]
  },
  {
   "cell_type": "code",
   "execution_count": 7,
   "id": "66b57572",
   "metadata": {},
   "outputs": [
    {
     "name": "stdout",
     "output_type": "stream",
     "text": [
      "Overwriting copy_opponent.py\n"
     ]
    }
   ],
   "source": [
    "%%writefile copy_opponent.py\n",
    "\n",
    "#Agent 4\n",
    "\n",
    "import random\n",
    "\n",
    "def copy_opponent(observation, configuration):\n",
    "    if observation.step > 0:\n",
    "        return observation.lastOpponentAction\n",
    "    else:\n",
    "        return random.randrange(0, configuration.signs)"
   ]
  },
  {
   "cell_type": "code",
   "execution_count": 8,
   "id": "4b255cb1",
   "metadata": {},
   "outputs": [
    {
     "name": "stdout",
     "output_type": "stream",
     "text": [
      "Overwriting random_decision.py\n"
     ]
    }
   ],
   "source": [
    "%%writefile random_decision.py\n",
    "\n",
    "#Agent 5\n",
    "\n",
    "import random\n",
    "\n",
    "def random_decision(observation, configuration):\n",
    "    return random.randrange(0, configuration.signs)"
   ]
  },
  {
   "cell_type": "code",
   "execution_count": 9,
   "id": "ec81bde0",
   "metadata": {},
   "outputs": [
    {
     "name": "stdout",
     "output_type": "stream",
     "text": [
      "Overwriting random_not_rock.py\n"
     ]
    }
   ],
   "source": [
    "%%writefile random_not_rock.py\n",
    "\n",
    "#Agent 6\n",
    "\n",
    "import random\n",
    "\n",
    "def random_not_rock(observation, configuration):\n",
    "    return random.randrange(1, configuration.signs)"
   ]
  },
  {
   "cell_type": "code",
   "execution_count": 10,
   "id": "391eee4d",
   "metadata": {},
   "outputs": [
    {
     "name": "stdout",
     "output_type": "stream",
     "text": [
      "Overwriting random_not_paper.py\n"
     ]
    }
   ],
   "source": [
    "%%writefile random_not_paper.py\n",
    "\n",
    "#Agent 7\n",
    "\n",
    "import random\n",
    "\n",
    "def random_not_paper(observation, configuration):\n",
    "    return random.randrange(0, configuration.signs, 2)"
   ]
  },
  {
   "cell_type": "code",
   "execution_count": 11,
   "id": "0fe89a86",
   "metadata": {},
   "outputs": [
    {
     "name": "stdout",
     "output_type": "stream",
     "text": [
      "Overwriting random_not_scissors.py\n"
     ]
    }
   ],
   "source": [
    "%%writefile random_not_scissors.py\n",
    "\n",
    "#Agent 8\n",
    "\n",
    "import random\n",
    "\n",
    "def random_not_scissors(observation, configuration):\n",
    "    return random.randrange(0, configuration.signs - 1)"
   ]
  },
  {
   "cell_type": "code",
   "execution_count": 12,
   "id": "9d402a6a",
   "metadata": {},
   "outputs": [
    {
     "name": "stdout",
     "output_type": "stream",
     "text": [
      "Overwriting random_not_opponent.py\n"
     ]
    }
   ],
   "source": [
    "%%writefile random_not_opponent.py\n",
    "\n",
    "#Agent 9\n",
    "\n",
    "import random\n",
    "\n",
    "def random_not_opponent(observation, configuration):\n",
    "    if observation.step > 0:\n",
    "        if observation.lastOpponentAction == 0:\n",
    "            return random.randrange(1, configuration.signs)\n",
    "        elif observation.lastOpponentAction == 1:\n",
    "            return random.randrange(0, configuration.signs, 2)\n",
    "        else:\n",
    "            return random.randrange(0, configuration.signs - 1)\n",
    "    else:\n",
    "        return random.randrange(0, configuration.signs)"
   ]
  },
  {
   "cell_type": "code",
   "execution_count": 13,
   "id": "225de8ee",
   "metadata": {},
   "outputs": [
    {
     "name": "stdout",
     "output_type": "stream",
     "text": [
      "Overwriting opposit_last_opponent.py\n"
     ]
    }
   ],
   "source": [
    "%%writefile opposit_last_opponent.py\n",
    "\n",
    "#Agent 10\n",
    "\n",
    "#Agent give opposit value. If opponent gave last value:\n",
    "#rock - agent will give paper;\n",
    "#paper - agent will give scissors;\n",
    "#scissors - agent will give rock;\n",
    "\n",
    "import random\n",
    "\n",
    "def opposit_last_opponent(observation, configuration):\n",
    "    if observation.step > 0:\n",
    "        if observation.lastOpponentAction == 0:\n",
    "            return 1\n",
    "        elif observation.lastOpponentAction == 1:\n",
    "            return 2\n",
    "        else:\n",
    "            return 0\n",
    "    else:\n",
    "        return random.randrange(0, configuration.signs)"
   ]
  },
  {
   "cell_type": "code",
   "execution_count": 21,
   "id": "0b4bf431",
   "metadata": {},
   "outputs": [
    {
     "name": "stdout",
     "output_type": "stream",
     "text": [
      "only_paper vs only_rock: 99.0 vs -99.0\n",
      "only_paper vs only_scissors: -99.0 vs 99.0\n",
      "only_paper vs copy_opponent: 1.0 vs -1.0\n",
      "only_paper vs random_decision: -4.0 vs 4.0\n",
      "only_paper vs random_not_rock: -46.0 vs 46.0\n",
      "only_paper vs random_not_paper: -13.0 vs 13.0\n",
      "only_paper vs random_not_scissors: 56.0 vs -56.0\n",
      "only_paper vs random_not_opponent: 12.0 vs -12.0\n",
      "only_paper vs opposit_last_opponent: -97.0 vs 97.0\n",
      "only_rock vs only_scissors: 99.0 vs -99.0\n",
      "only_rock vs copy_opponent: -1.0 vs 1.0\n",
      "only_rock vs random_decision: 1.0 vs -1.0\n",
      "only_rock vs random_not_rock: -9.0 vs 9.0\n",
      "only_rock vs random_not_paper: 58.0 vs -58.0\n",
      "only_rock vs random_not_scissors: -45.0 vs 45.0\n",
      "only_rock vs random_not_opponent: -5.0 vs 5.0\n",
      "only_rock vs opposit_last_opponent: -98.0 vs 98.0\n",
      "only_scissors vs copy_opponent: -1.0 vs 1.0\n",
      "only_scissors vs random_decision: 0 vs 0\n",
      "only_scissors vs random_not_rock: 45.0 vs -45.0\n",
      "only_scissors vs random_not_paper: -57.0 vs 57.0\n",
      "only_scissors vs random_not_scissors: 13.0 vs -13.0\n",
      "only_scissors vs random_not_opponent: 12.0 vs -12.0\n",
      "only_scissors vs opposit_last_opponent: -97.0 vs 97.0\n",
      "copy_opponent vs random_decision: 1.0 vs -1.0\n",
      "copy_opponent vs random_not_rock: -1.0 vs 1.0\n",
      "copy_opponent vs random_not_paper: 1.0 vs -1.0\n",
      "copy_opponent vs random_not_scissors: 1.0 vs -1.0\n",
      "copy_opponent vs random_not_opponent: 9.0 vs -9.0\n",
      "copy_opponent vs opposit_last_opponent: -49.0 vs 49.0\n",
      "random_decision vs random_not_rock: -6.0 vs 6.0\n",
      "random_decision vs random_not_paper: 0 vs 0\n",
      "random_decision vs random_not_scissors: -2.0 vs 2.0\n",
      "random_decision vs random_not_opponent: -8.0 vs 8.0\n",
      "random_decision vs opposit_last_opponent: 1.0 vs -1.0\n",
      "random_not_rock vs random_not_paper: -29.0 vs 29.0\n",
      "random_not_rock vs random_not_scissors: 36.0 vs -36.0\n",
      "random_not_rock vs random_not_opponent: 0 vs 0\n",
      "random_not_rock vs opposit_last_opponent: -29.0 vs 29.0\n",
      "random_not_paper vs random_not_scissors: -34.0 vs 34.0\n",
      "random_not_paper vs random_not_opponent: 2.0 vs -2.0\n",
      "random_not_paper vs opposit_last_opponent: -24.0 vs 24.0\n",
      "random_not_scissors vs random_not_opponent: 13.0 vs -13.0\n",
      "random_not_scissors vs opposit_last_opponent: -26.0 vs 26.0\n",
      "random_not_opponent vs opposit_last_opponent: 13.0 vs -13.0\n"
     ]
    }
   ],
   "source": [
    "agents = ['only_paper.py', \n",
    "          'only_rock.py', \n",
    "          'only_scissors.py', \n",
    "          'copy_opponent.py', \n",
    "          'random_decision.py',\n",
    "          'random_not_rock.py',\n",
    "          'random_not_paper.py',\n",
    "          'random_not_scissors.py',\n",
    "          'random_not_opponent.py',\n",
    "          'opposit_last_opponent.py'\n",
    "]\n",
    "\n",
    "agents_rating = {agent[:-3]: 0 for agent in agents}\n",
    "\n",
    "for i in range(len(agents)):\n",
    "    for j in range(i + 1, len(agents)):\n",
    "        result = evaluate(\n",
    "            \"rps\",\n",
    "            [agents[i], agents[j]],\n",
    "            configuration={\"episodeSteps\": 100, 'tieRewardThreshold': 1}\n",
    "        )\n",
    "        \n",
    "        print(f'{agents[i][:-3]} vs {agents[j][:-3]}: {result[0][0]} vs {result[0][1]}')\n",
    "        \n",
    "        if result[0][0] > result[0][1]:\n",
    "            agents_rating[agents[i][:-3]] += 1\n",
    "        elif result[0][0] < result[0][1]:\n",
    "            agents_rating[agents[j][:-3]] += 1\n",
    "\n",
    "rating = sorted(agents_rating.items(), key=lambda wins: wins[1], reverse=True)"
   ]
  },
  {
   "cell_type": "code",
   "execution_count": 22,
   "id": "58a0f501",
   "metadata": {},
   "outputs": [
    {
     "name": "stdout",
     "output_type": "stream",
     "text": [
      "opposit_last_opponent: 7\n",
      "copy_opponent: 6\n",
      "random_not_rock: 5\n",
      "only_paper: 4\n",
      "only_scissors: 4\n",
      "random_not_paper: 4\n",
      "random_not_scissors: 4\n",
      "only_rock: 3\n",
      "random_not_opponent: 3\n",
      "random_decision: 2\n"
     ]
    }
   ],
   "source": [
    "for agent in rating:\n",
    "    print(f'{agent[0]}: {agent[1]}')"
   ]
  }
 ],
 "metadata": {
  "kernelspec": {
   "display_name": "Python 3 (ipykernel)",
   "language": "python",
   "name": "python3"
  },
  "language_info": {
   "codemirror_mode": {
    "name": "ipython",
    "version": 3
   },
   "file_extension": ".py",
   "mimetype": "text/x-python",
   "name": "python",
   "nbconvert_exporter": "python",
   "pygments_lexer": "ipython3",
   "version": "3.9.7"
  }
 },
 "nbformat": 4,
 "nbformat_minor": 5
}
